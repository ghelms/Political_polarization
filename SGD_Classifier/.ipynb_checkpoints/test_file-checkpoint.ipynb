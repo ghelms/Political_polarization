{
 "cells": [
  {
   "cell_type": "code",
   "execution_count": 6,
   "id": "472cf53f",
   "metadata": {},
   "outputs": [],
   "source": [
    "# importing packages\n",
    "\n",
    "import sys\n",
    "import webbrowser"
   ]
  },
  {
   "cell_type": "code",
   "execution_count": 8,
   "id": "be80c71d",
   "metadata": {},
   "outputs": [
    {
     "data": {
      "text/plain": [
       "True"
      ]
     },
     "execution_count": 8,
     "metadata": {},
     "output_type": "execute_result"
    }
   ],
   "source": [
    "# run to see shortcuts in Jupyter Notebooks\n",
    "shortcuts = \"https://towardsdatascience.com/jypyter-notebook-shortcuts-bf0101a98330\"\n",
    "webbrowser.open(shortcuts)"
   ]
  },
  {
   "cell_type": "code",
   "execution_count": null,
   "id": "4d142964",
   "metadata": {},
   "outputs": [],
   "source": []
  }
 ],
 "metadata": {
  "kernelspec": {
   "display_name": "Python 3 (ipykernel)",
   "language": "python",
   "name": "python3"
  },
  "language_info": {
   "codemirror_mode": {
    "name": "ipython",
    "version": 3
   },
   "file_extension": ".py",
   "mimetype": "text/x-python",
   "name": "python",
   "nbconvert_exporter": "python",
   "pygments_lexer": "ipython3",
   "version": "3.9.2"
  }
 },
 "nbformat": 4,
 "nbformat_minor": 5
}
