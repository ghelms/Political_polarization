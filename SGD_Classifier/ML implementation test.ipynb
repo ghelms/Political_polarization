{
 "cells": [
  {
   "cell_type": "markdown",
   "id": "ad58015d",
   "metadata": {},
   "source": [
    "# Importing packages and data"
   ]
  },
  {
   "cell_type": "code",
   "execution_count": 115,
   "id": "8a6aad29",
   "metadata": {},
   "outputs": [],
   "source": [
    "# Importing libraries\n",
    "import pandas as pd\n",
    "import matplotlib.pylab as plt\n",
    "import numpy as np\n",
    "\n",
    "# scikit learn packages \n",
    "from sklearn.feature_extraction.text import CountVectorizer, TfidfVectorizer # vectorizer\n",
    "from sklearn.model_selection import train_test_split # For splitting into test and train data\n",
    "from sklearn.naive_bayes import MultinomialNB # Simple model for multinomial classification\n",
    "from sklearn.linear_model import SGDClassifier # SGD classifier - better model for classification\n",
    "from sklearn.pipeline import Pipeline # Pipeline framework\n",
    "from sklearn import metrics # For metric evaluation \n",
    "from sklearn.model_selection import GridSearchCV # Library that allows optimization of hyperparameters\n",
    "\n"
   ]
  },
  {
   "cell_type": "code",
   "execution_count": 99,
   "id": "488265d9",
   "metadata": {},
   "outputs": [],
   "source": [
    "# Path to the data\n",
    "data_path = \"/Users/gustavhelms/Documents/Cognitive Science/5_semester/Bachelor/political_polarization/Folketinget-Scraping/data/folketinget_2019_2021_raw.csv\"\n",
    "# Importing data - only a subset \n",
    "df = pd.read_csv(data_path, nrows = 10000)"
   ]
  },
  {
   "cell_type": "markdown",
   "id": "34ce523d",
   "metadata": {},
   "source": [
    "# Inspecting the data"
   ]
  },
  {
   "cell_type": "code",
   "execution_count": 100,
   "id": "aa4fa6c1",
   "metadata": {},
   "outputs": [
    {
     "data": {
      "text/html": [
       "<div>\n",
       "<style scoped>\n",
       "    .dataframe tbody tr th:only-of-type {\n",
       "        vertical-align: middle;\n",
       "    }\n",
       "\n",
       "    .dataframe tbody tr th {\n",
       "        vertical-align: top;\n",
       "    }\n",
       "\n",
       "    .dataframe thead th {\n",
       "        text-align: right;\n",
       "    }\n",
       "</style>\n",
       "<table border=\"1\" class=\"dataframe\">\n",
       "  <thead>\n",
       "    <tr style=\"text-align: right;\">\n",
       "      <th></th>\n",
       "      <th>Title</th>\n",
       "      <th>id</th>\n",
       "      <th>Samling</th>\n",
       "      <th>Nr</th>\n",
       "      <th>Titel</th>\n",
       "      <th>Dato</th>\n",
       "      <th>speaker_id</th>\n",
       "      <th>text</th>\n",
       "      <th>Date</th>\n",
       "      <th>doc_id</th>\n",
       "      <th>Name</th>\n",
       "      <th>Year</th>\n",
       "      <th>Period</th>\n",
       "      <th>Parti</th>\n",
       "    </tr>\n",
       "  </thead>\n",
       "  <tbody>\n",
       "    <tr>\n",
       "      <th>0</th>\n",
       "      <td>Adsbøl</td>\n",
       "      <td>20201_M108_referat</td>\n",
       "      <td>20201</td>\n",
       "      <td>108</td>\n",
       "      <td>Referat af møde 108 den 4. maj, 2021 kl. 13.00</td>\n",
       "      <td>04-05-2021</td>\n",
       "      <td>42762</td>\n",
       "      <td>der fik i lige reddet mig . ja, det var en spæ...</td>\n",
       "      <td>2021-05-04T20:12:00Z</td>\n",
       "      <td>36438</td>\n",
       "      <td>Karina Adsbøl</td>\n",
       "      <td>2021</td>\n",
       "      <td>2019-</td>\n",
       "      <td>Dansk Folkeparti</td>\n",
       "    </tr>\n",
       "    <tr>\n",
       "      <th>1</th>\n",
       "      <td>Adsbøl</td>\n",
       "      <td>20201_M108_referat</td>\n",
       "      <td>20201</td>\n",
       "      <td>108</td>\n",
       "      <td>Referat af møde 108 den 4. maj, 2021 kl. 13.00</td>\n",
       "      <td>04-05-2021</td>\n",
       "      <td>42788</td>\n",
       "      <td>jeg vil så gerne blive lidt længere . men vi g...</td>\n",
       "      <td>2021-05-04T20:24:00Z</td>\n",
       "      <td>36466</td>\n",
       "      <td>Karina Adsbøl</td>\n",
       "      <td>2021</td>\n",
       "      <td>2019-</td>\n",
       "      <td>Dansk Folkeparti</td>\n",
       "    </tr>\n",
       "    <tr>\n",
       "      <th>2</th>\n",
       "      <td>Ahlers</td>\n",
       "      <td>20201_M114_referat</td>\n",
       "      <td>20201</td>\n",
       "      <td>114</td>\n",
       "      <td>Referat af møde 114 den 11. maj, 2021 kl. 14.30</td>\n",
       "      <td>11-05-2021</td>\n",
       "      <td>45782</td>\n",
       "      <td>hvis hr. tommy ahlers var gået ind i forhandli...</td>\n",
       "      <td>2021-05-11T17:05:00Z</td>\n",
       "      <td>39795</td>\n",
       "      <td>Tommy Ahlers</td>\n",
       "      <td>2021</td>\n",
       "      <td>2019-</td>\n",
       "      <td>Venstre</td>\n",
       "    </tr>\n",
       "    <tr>\n",
       "      <th>3</th>\n",
       "      <td>Aki-Matilda Høegh-Dam</td>\n",
       "      <td>20201_M110_referat</td>\n",
       "      <td>20201</td>\n",
       "      <td>110</td>\n",
       "      <td>Referat af møde 110 den 6. maj, 2021 kl. 10.00</td>\n",
       "      <td>06-05-2021</td>\n",
       "      <td>44397</td>\n",
       "      <td>vi behandler i dag et beslutningsforslag, hvor...</td>\n",
       "      <td>2021-05-06T14:32:00Z</td>\n",
       "      <td>38255</td>\n",
       "      <td>Aki-Matilda Høegh-Dam</td>\n",
       "      <td>2021</td>\n",
       "      <td>2019-</td>\n",
       "      <td>Siumut</td>\n",
       "    </tr>\n",
       "    <tr>\n",
       "      <th>4</th>\n",
       "      <td>Aki-Matilda Høegh-Dam</td>\n",
       "      <td>20201_M110_referat</td>\n",
       "      <td>20201</td>\n",
       "      <td>110</td>\n",
       "      <td>Referat af møde 110 den 6. maj, 2021 kl. 10.00</td>\n",
       "      <td>06-05-2021</td>\n",
       "      <td>44413</td>\n",
       "      <td>tak. jeg finder det interessant, at df i bemær...</td>\n",
       "      <td>2021-05-06T14:47:00Z</td>\n",
       "      <td>38274</td>\n",
       "      <td>Aki-Matilda Høegh-Dam</td>\n",
       "      <td>2021</td>\n",
       "      <td>2019-</td>\n",
       "      <td>Siumut</td>\n",
       "    </tr>\n",
       "  </tbody>\n",
       "</table>\n",
       "</div>"
      ],
      "text/plain": [
       "                   Title                  id  Samling   Nr  \\\n",
       "0                 Adsbøl  20201_M108_referat    20201  108   \n",
       "1                 Adsbøl  20201_M108_referat    20201  108   \n",
       "2                 Ahlers  20201_M114_referat    20201  114   \n",
       "3  Aki-Matilda Høegh-Dam  20201_M110_referat    20201  110   \n",
       "4  Aki-Matilda Høegh-Dam  20201_M110_referat    20201  110   \n",
       "\n",
       "                                             Titel        Dato  speaker_id  \\\n",
       "0   Referat af møde 108 den 4. maj, 2021 kl. 13.00  04-05-2021       42762   \n",
       "1   Referat af møde 108 den 4. maj, 2021 kl. 13.00  04-05-2021       42788   \n",
       "2  Referat af møde 114 den 11. maj, 2021 kl. 14.30  11-05-2021       45782   \n",
       "3   Referat af møde 110 den 6. maj, 2021 kl. 10.00  06-05-2021       44397   \n",
       "4   Referat af møde 110 den 6. maj, 2021 kl. 10.00  06-05-2021       44413   \n",
       "\n",
       "                                                text                  Date  \\\n",
       "0  der fik i lige reddet mig . ja, det var en spæ...  2021-05-04T20:12:00Z   \n",
       "1  jeg vil så gerne blive lidt længere . men vi g...  2021-05-04T20:24:00Z   \n",
       "2  hvis hr. tommy ahlers var gået ind i forhandli...  2021-05-11T17:05:00Z   \n",
       "3  vi behandler i dag et beslutningsforslag, hvor...  2021-05-06T14:32:00Z   \n",
       "4  tak. jeg finder det interessant, at df i bemær...  2021-05-06T14:47:00Z   \n",
       "\n",
       "   doc_id                   Name  Year Period             Parti  \n",
       "0   36438          Karina Adsbøl  2021  2019-  Dansk Folkeparti  \n",
       "1   36466          Karina Adsbøl  2021  2019-  Dansk Folkeparti  \n",
       "2   39795           Tommy Ahlers  2021  2019-           Venstre  \n",
       "3   38255  Aki-Matilda Høegh-Dam  2021  2019-            Siumut  \n",
       "4   38274  Aki-Matilda Høegh-Dam  2021  2019-            Siumut  "
      ]
     },
     "execution_count": 100,
     "metadata": {},
     "output_type": "execute_result"
    }
   ],
   "source": [
    "df.head() "
   ]
  },
  {
   "cell_type": "code",
   "execution_count": 102,
   "id": "49526ed0",
   "metadata": {},
   "outputs": [
    {
     "data": {
      "text/plain": [
       "(10000, 14)"
      ]
     },
     "execution_count": 102,
     "metadata": {},
     "output_type": "execute_result"
    }
   ],
   "source": [
    "df.shape"
   ]
  },
  {
   "cell_type": "markdown",
   "id": "37f29a5d",
   "metadata": {},
   "source": [
    "# Extracting the text and labels"
   ]
  },
  {
   "cell_type": "code",
   "execution_count": 83,
   "id": "f24eac2b",
   "metadata": {},
   "outputs": [],
   "source": [
    "# Saving the relevant data as a list\n",
    "X, y = df[\"text\"], df[\"Parti\"]"
   ]
  },
  {
   "cell_type": "markdown",
   "id": "9384b820",
   "metadata": {},
   "source": [
    "# Vectorizing and transforming the text into matrix"
   ]
  },
  {
   "cell_type": "code",
   "execution_count": 84,
   "id": "02c84d2e",
   "metadata": {},
   "outputs": [],
   "source": [
    "# Defining and importing vectorizer\n",
    "tfidf_vect = TfidfVectorizer()\n",
    "\n",
    "# Transforming the text in the training with the vectorizer into a matrix\n",
    "X_tfidf = tfidf_vect.fit_transform(X)"
   ]
  },
  {
   "cell_type": "markdown",
   "id": "bd1cb996",
   "metadata": {},
   "source": [
    "# Splitting into train and test data sets"
   ]
  },
  {
   "cell_type": "code",
   "execution_count": 66,
   "id": "795117ea",
   "metadata": {},
   "outputs": [],
   "source": [
    "# Splitting into train and text\n",
    "X_train, X_test, y_train, y_test = train_test_split(\n",
    "    X_tfidf, y, test_size=0.10, random_state=42)"
   ]
  },
  {
   "cell_type": "markdown",
   "id": "ea319b1e",
   "metadata": {},
   "source": [
    "# Training a classifier on the whole data set"
   ]
  },
  {
   "cell_type": "code",
   "execution_count": 86,
   "id": "efd79b63",
   "metadata": {},
   "outputs": [],
   "source": [
    "clf = MultinomialNB().fit(X_tfidf, y)\n",
    "pred = clf.predict(X_tfidf)\n"
   ]
  },
  {
   "cell_type": "code",
   "execution_count": 87,
   "id": "c7ba906d",
   "metadata": {},
   "outputs": [
    {
     "data": {
      "text/plain": [
       "<matplotlib.collections.PathCollection at 0x7fed1840da90>"
      ]
     },
     "execution_count": 87,
     "metadata": {},
     "output_type": "execute_result"
    },
    {
     "data": {
      "image/png": "[encoded data removed]",
      "text/plain": [
       "<Figure size 432x288 with 1 Axes>"
      ]
     },
     "metadata": {
      "needs_background": "light"
     },
     "output_type": "display_data"
    }
   ],
   "source": [
    "import matplotlib.pylab as plt\n",
    "plt.scatter(pred, y)"
   ]
  },
  {
   "cell_type": "markdown",
   "id": "0b1ad790",
   "metadata": {},
   "source": [
    "# Incorporating the framework to a pipeline"
   ]
  },
  {
   "cell_type": "code",
   "execution_count": 95,
   "id": "c4e99dae",
   "metadata": {},
   "outputs": [],
   "source": [
    "# The pipeline allows to design a common framework for the preprocessing of the data - this makes it easily scalable\n",
    "text_clf = Pipeline([\n",
    "('vect', CountVectorizer()),\n",
    "('tfidf', TfidfTransformer()),\n",
    "('clf', MultinomialNB())]) # Using NB as classifier"
   ]
  },
  {
   "cell_type": "code",
   "execution_count": 98,
   "id": "9a967dc6",
   "metadata": {},
   "outputs": [
    {
     "data": {
      "text/plain": [
       "0.44769011629143013"
      ]
     },
     "execution_count": 98,
     "metadata": {},
     "output_type": "execute_result"
    }
   ],
   "source": [
    "# Fitting and predicting through the pipeline\n",
    "predicted = text_clf.fit(X, y).predict(y) \n",
    "\n",
    "# Evaluating the performance of the classifier \n",
    "np.mean(predicted == y)"
   ]
  },
  {
   "cell_type": "markdown",
   "id": "4c7cd11f",
   "metadata": {},
   "source": [
    "This performance sucks - lets try with the SGD classifier"
   ]
  },
  {
   "cell_type": "code",
   "execution_count": 133,
   "id": "6e15f343",
   "metadata": {},
   "outputs": [],
   "source": [
    "# Creating a new pipe with the SGD classifier\n",
    "pipe = Pipeline([\n",
    "('vect', CountVectorizer()),\n",
    "('tfidf', TfidfTransformer()),\n",
    "('SGD', SGDClassifier(n_jobs=-1,loss='log', \n",
    "                      penalty='l2', shuffle=True,\n",
    "                      class_weight = 'balanced'))]) "
   ]
  },
  {
   "cell_type": "code",
   "execution_count": 134,
   "id": "5d955e3c",
   "metadata": {
    "scrolled": true
   },
   "outputs": [
    {
     "data": {
      "text/plain": [
       "0.44769011629143013"
      ]
     },
     "execution_count": 134,
     "metadata": {},
     "output_type": "execute_result"
    }
   ],
   "source": [
    "# Evaluating the new model\n",
    "\n",
    "# Fitting and predicting through the new pipeline\n",
    "predicted_SGD = text_clf.fit(X, y).predict(y) \n",
    "\n",
    "# Evaluating the performance of the classifier - no better performance hmmm\n",
    "np.mean(predicted_SGD == y)"
   ]
  },
  {
   "cell_type": "markdown",
   "id": "7f7f3f44",
   "metadata": {},
   "source": [
    "# Investigating the metrics to evaluate the model"
   ]
  },
  {
   "cell_type": "code",
   "execution_count": 135,
   "id": "3f82e4e5",
   "metadata": {},
   "outputs": [
    {
     "name": "stderr",
     "output_type": "stream",
     "text": [
      "/Users/gustavhelms/opt/anaconda3/lib/python3.8/site-packages/sklearn/metrics/_classification.py:1245: UndefinedMetricWarning: Precision and F-score are ill-defined and being set to 0.0 in labels with no predicted samples. Use `zero_division` parameter to control this behavior.\n",
      "  _warn_prf(average, modifier, msg_start, len(result))\n",
      "/Users/gustavhelms/opt/anaconda3/lib/python3.8/site-packages/sklearn/metrics/_classification.py:1245: UndefinedMetricWarning: Precision and F-score are ill-defined and being set to 0.0 in labels with no predicted samples. Use `zero_division` parameter to control this behavior.\n",
      "  _warn_prf(average, modifier, msg_start, len(result))\n"
     ]
    },
    {
     "name": "stdout",
     "output_type": "stream",
     "text": [
      "                             precision    recall  f1-score   support\n",
      "\n",
      "           Dansk Folkeparti       0.00      0.00      0.00      1489\n",
      "                    Venstre       0.00      0.00      0.00      6354\n",
      "                     Siumut       0.00      0.00      0.00      1421\n",
      "           Liberal Alliance       0.00      0.00      0.00      3664\n",
      "          Socialdemokratiet       0.00      0.00      0.00       124\n",
      "           Radikale Venstre       0.00      0.00      0.00        64\n",
      "    Socialistisk Folkeparti       0.00      0.00      0.00       933\n",
      "Det Konservative Folkeparti       0.00      0.00      0.00      2140\n",
      "               Enhedslisten       0.00      0.00      0.00      3980\n",
      "             Nye Borgerlige       0.00      0.00      0.00        57\n",
      "          Sambandsflokkurin       0.00      0.00      0.00        77\n",
      "               Alternativet       0.75      1.00      0.86     11393\n",
      "          Inuit Ataqatigiit       0.00      0.00      0.00      5676\n",
      "          Javnaðarflokkurin       0.30      1.00      0.47      9665\n",
      "\n",
      "                   accuracy                           0.45     47037\n",
      "                  macro avg       0.08      0.14      0.09     47037\n",
      "               weighted avg       0.24      0.45      0.30     47037\n",
      "\n"
     ]
    },
    {
     "name": "stderr",
     "output_type": "stream",
     "text": [
      "/Users/gustavhelms/opt/anaconda3/lib/python3.8/site-packages/sklearn/metrics/_classification.py:1245: UndefinedMetricWarning: Precision and F-score are ill-defined and being set to 0.0 in labels with no predicted samples. Use `zero_division` parameter to control this behavior.\n",
      "  _warn_prf(average, modifier, msg_start, len(result))\n"
     ]
    }
   ],
   "source": [
    "print(metrics.classification_report(y, predicted_SGD,\n",
    "                                    target_names= y.unique()))"
   ]
  },
  {
   "cell_type": "code",
   "execution_count": 136,
   "id": "7256640a",
   "metadata": {},
   "outputs": [
    {
     "data": {
      "text/plain": [
       "array([[    0,     0,     0,     0,     0,     0,     0,     0,     0,\n",
       "            0,     0,  1489,     0,     0],\n",
       "       [    0,     0,     0,     0,     0,     0,     0,     0,     0,\n",
       "            0,     0,     0,     0,  6354],\n",
       "       [    0,     0,     0,     0,     0,     0,     0,     0,     0,\n",
       "            0,     0,     0,     0,  1421],\n",
       "       [    0,     0,     0,     0,     0,     0,     0,     0,     0,\n",
       "            0,     0,     0,     0,  3664],\n",
       "       [    0,     0,     0,     0,     0,     0,     0,     0,     0,\n",
       "            0,     0,   124,     0,     0],\n",
       "       [    0,     0,     0,     0,     0,     0,     0,     0,     0,\n",
       "            0,     0,     0,     0,    64],\n",
       "       [    0,     0,     0,     0,     0,     0,     0,     0,     0,\n",
       "            0,     0,     0,     0,   933],\n",
       "       [    0,     0,     0,     0,     0,     0,     0,     0,     0,\n",
       "            0,     0,  2140,     0,     0],\n",
       "       [    0,     0,     0,     0,     0,     0,     0,     0,     0,\n",
       "            0,     0,     0,     0,  3980],\n",
       "       [    0,     0,     0,     0,     0,     0,     0,     0,     0,\n",
       "            0,     0,    57,     0,     0],\n",
       "       [    0,     0,     0,     0,     0,     0,     0,     0,     0,\n",
       "            0,     0,     0,     0,    77],\n",
       "       [    0,     0,     0,     0,     0,     0,     0,     0,     0,\n",
       "            0,     0, 11393,     0,     0],\n",
       "       [    0,     0,     0,     0,     0,     0,     0,     0,     0,\n",
       "            0,     0,     0,     0,  5676],\n",
       "       [    0,     0,     0,     0,     0,     0,     0,     0,     0,\n",
       "            0,     0,     0,     0,  9665]])"
      ]
     },
     "execution_count": 136,
     "metadata": {},
     "output_type": "execute_result"
    }
   ],
   "source": [
    "# Confusion matrix\n",
    "metrics.confusion_matrix(y, predicted_SGD)"
   ]
  },
  {
   "cell_type": "markdown",
   "id": "8ca533f1",
   "metadata": {},
   "source": [
    "# Using a grid search to optimize the hyperparameters"
   ]
  },
  {
   "cell_type": "code",
   "execution_count": 121,
   "id": "7d41e013",
   "metadata": {},
   "outputs": [],
   "source": [
    "# Defining the range of parameters to be tested - (as a dictionary)\n",
    "parameters = {\n",
    "     #'vect__ngram_range': [(1, 1), (1, 2)],\n",
    "     #'tfidf__use_idf': (True, False),\n",
    "     #'SGD__alpha': (1e-2, 1e-3),\n",
    "     'SGD__class_weight': (\"balanced\",\"none\")\n",
    " }\n",
    "\n",
    "# Defining the gridsearch\n",
    "gs_clf = GridSearchCV(estimator = pipe, \n",
    "                      param_grid = parameters, \n",
    "                      cv=3, \n",
    "                      n_jobs=-1)"
   ]
  },
  {
   "cell_type": "code",
   "execution_count": 122,
   "id": "7dd1df9c",
   "metadata": {},
   "outputs": [
    {
     "name": "stderr",
     "output_type": "stream",
     "text": [
      "/Users/gustavhelms/opt/anaconda3/lib/python3.8/site-packages/sklearn/model_selection/_search.py:918: UserWarning: One or more of the test scores are non-finite: [0.20807024        nan]\n",
      "  warnings.warn(\n"
     ]
    },
    {
     "data": {
      "text/plain": [
       "GridSearchCV(cv=3,\n",
       "             estimator=Pipeline(steps=[('vect', CountVectorizer()),\n",
       "                                       ('tfidf', TfidfTransformer()),\n",
       "                                       ('SGD',\n",
       "                                        SGDClassifier(alpha=0.001, max_iter=5,\n",
       "                                                      random_state=42,\n",
       "                                                      tol=None))]),\n",
       "             n_jobs=-1, param_grid={'SGD__class_weight': ('balanced', 'none')})"
      ]
     },
     "execution_count": 122,
     "metadata": {},
     "output_type": "execute_result"
    }
   ],
   "source": [
    "# Fitting the model\n",
    "gs_clf.fit(X,y)"
   ]
  },
  {
   "cell_type": "code",
   "execution_count": 123,
   "id": "ee7abbd3",
   "metadata": {},
   "outputs": [
    {
     "data": {
      "text/html": [
       "<div>\n",
       "<style scoped>\n",
       "    .dataframe tbody tr th:only-of-type {\n",
       "        vertical-align: middle;\n",
       "    }\n",
       "\n",
       "    .dataframe tbody tr th {\n",
       "        vertical-align: top;\n",
       "    }\n",
       "\n",
       "    .dataframe thead th {\n",
       "        text-align: right;\n",
       "    }\n",
       "</style>\n",
       "<table border=\"1\" class=\"dataframe\">\n",
       "  <thead>\n",
       "    <tr style=\"text-align: right;\">\n",
       "      <th></th>\n",
       "      <th>mean_fit_time</th>\n",
       "      <th>std_fit_time</th>\n",
       "      <th>mean_score_time</th>\n",
       "      <th>std_score_time</th>\n",
       "      <th>param_SGD__class_weight</th>\n",
       "      <th>params</th>\n",
       "      <th>split0_test_score</th>\n",
       "      <th>split1_test_score</th>\n",
       "      <th>split2_test_score</th>\n",
       "      <th>mean_test_score</th>\n",
       "      <th>std_test_score</th>\n",
       "      <th>rank_test_score</th>\n",
       "    </tr>\n",
       "  </thead>\n",
       "  <tbody>\n",
       "    <tr>\n",
       "      <th>0</th>\n",
       "      <td>17.679508</td>\n",
       "      <td>1.076421</td>\n",
       "      <td>6.284041</td>\n",
       "      <td>0.885066</td>\n",
       "      <td>balanced</td>\n",
       "      <td>{'SGD__class_weight': 'balanced'}</td>\n",
       "      <td>0.18107</td>\n",
       "      <td>0.299892</td>\n",
       "      <td>0.143249</td>\n",
       "      <td>0.20807</td>\n",
       "      <td>0.066738</td>\n",
       "      <td>1</td>\n",
       "    </tr>\n",
       "    <tr>\n",
       "      <th>1</th>\n",
       "      <td>11.222074</td>\n",
       "      <td>3.615757</td>\n",
       "      <td>0.000000</td>\n",
       "      <td>0.000000</td>\n",
       "      <td>none</td>\n",
       "      <td>{'SGD__class_weight': 'none'}</td>\n",
       "      <td>NaN</td>\n",
       "      <td>NaN</td>\n",
       "      <td>NaN</td>\n",
       "      <td>NaN</td>\n",
       "      <td>NaN</td>\n",
       "      <td>2</td>\n",
       "    </tr>\n",
       "  </tbody>\n",
       "</table>\n",
       "</div>"
      ],
      "text/plain": [
       "   mean_fit_time  std_fit_time  mean_score_time  std_score_time  \\\n",
       "0      17.679508      1.076421         6.284041        0.885066   \n",
       "1      11.222074      3.615757         0.000000        0.000000   \n",
       "\n",
       "  param_SGD__class_weight                             params  \\\n",
       "0                balanced  {'SGD__class_weight': 'balanced'}   \n",
       "1                    none      {'SGD__class_weight': 'none'}   \n",
       "\n",
       "   split0_test_score  split1_test_score  split2_test_score  mean_test_score  \\\n",
       "0            0.18107           0.299892           0.143249          0.20807   \n",
       "1                NaN                NaN                NaN              NaN   \n",
       "\n",
       "   std_test_score  rank_test_score  \n",
       "0        0.066738                1  \n",
       "1             NaN                2  "
      ]
     },
     "execution_count": 123,
     "metadata": {},
     "output_type": "execute_result"
    }
   ],
   "source": [
    "# Evaluating the hyperparameter\n",
    "pd.DataFrame(gs_clf.cv_results_)"
   ]
  },
  {
   "cell_type": "code",
   "execution_count": 132,
   "id": "47d4ae73",
   "metadata": {},
   "outputs": [],
   "source": []
  },
  {
   "cell_type": "code",
   "execution_count": null,
   "id": "579d5401",
   "metadata": {},
   "outputs": [],
   "source": []
  }
 ],
 "metadata": {
  "kernelspec": {
   "display_name": "Python 3",
   "language": "python",
   "name": "python3"
  },
  "language_info": {
   "codemirror_mode": {
    "name": "ipython",
    "version": 3
   },
   "file_extension": ".py",
   "mimetype": "text/x-python",
   "name": "python",
   "nbconvert_exporter": "python",
   "pygments_lexer": "ipython3",
   "version": "3.8.8"
  }
 },
 "nbformat": 4,
 "nbformat_minor": 5
}
